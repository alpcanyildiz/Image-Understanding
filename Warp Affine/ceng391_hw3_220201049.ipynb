{
 "cells": [
  {
   "cell_type": "code",
   "execution_count": null,
   "metadata": {},
   "outputs": [],
   "source": [
    "# Alpcan YILDIZ 220201049"
   ]
  },
  {
   "cell_type": "code",
   "execution_count": null,
   "metadata": {},
   "outputs": [],
   "source": [
    "import cv2\n",
    "import numpy as np\n",
    "import math\n",
    "from numpy.linalg import inv # To compute the inverse of Homography\n",
    "from math import floor"
   ]
  },
  {
   "cell_type": "code",
   "execution_count": null,
   "metadata": {},
   "outputs": [],
   "source": [
    "def initializeAffine(ψ,θ,λ):\n",
    "    affine=λ*np.array([[math.cos(np.deg2rad(ψ)), math.sin(np.deg2rad(ψ))], [-math.sin(np.deg2rad(ψ)), math.cos(np.deg2rad(ψ))]])\n",
    "    return np.dot(affine,np.array([[math.cos(np.deg2rad(θ)), 0], [0, 1]]))\n",
    "\n",
    "#In-plane rotation angle (ψ) represents rotation around an axis that is perpendicular to the object plane\n",
    "\n",
    "#Tilt amount (θ) is the angle between the normal of the image plane and the optical axis of the camera\n",
    "\n",
    "#Scale (λ) is the zoom parameter\n",
    "\n",
    "def findWarpedImageSize(affine,h,w):  #To find the warped image size. Multiplying by affine matrix with 4 corners of the reference image\n",
    "    topleftCorner = np.dot(affine,np.array([[0],[0]]))\n",
    "    toprightCorner = np.dot(affine,np.array([[h],[0]]))\n",
    "    bottomleftCorner = np.dot(affine,np.array([[0],[w]]))\n",
    "    bottomrightCorner = np.dot(affine,np.array([[h],[w]]))\n",
    "    \n",
    "    h=abs(round(int(topleftCorner[0] - bottomrightCorner[0])))\n",
    "    w=abs(round(int(bottomleftCorner[1]-toprightCorner[1]))) \n",
    "    \n",
    "    return np.zeros([h,w,1]) #Create image with new size\n",
    "\n",
    "def findHomogrophy(affine,ww,wh,rw,rh): #To find homogrophy matrix\n",
    "    first=np.dot(np.array([[1,0,ww/2],[0,1,wh/2],[0,0,1]]),np.array([[affine[0][0],affine[0][1],0],[affine[1][0],affine[1][1],0],[0,0,1]]))\n",
    "    return np.dot(first,np.array([[1,0,(-rh/2)],[0,1,(-rw/2)],[0,0,1]]))\n",
    "\n",
    "\n",
    "def visitPixels(referenceImg,warpedImg): #Visiting warped image pixels\n",
    "    x=0\n",
    "    for row in warpedImg:\n",
    "        y=0\n",
    "        for pixel in row:\n",
    "            findpointsWarpedToReference(referenceImg,warpedImg,x,y)\n",
    "            y+=1\n",
    "       # print (\"loading:\",(x/len(warpedImg))*100)\n",
    "        x+=1\n",
    "        \n",
    "def findpointsWarpedToReference(referenceImg,warpedImg,x,y): #From warped image pixels to reference image we can go via inverse of homogrophy\n",
    "    temp = np.dot(h_inv,np.array([[x],[y],[1]]))  \n",
    "    if (temp[0] < 0 or temp[0] >= len(referenceImg)-1): #This is for warped image pixels that does not match with the reference image pixel. It just pass and make those pixels black.\n",
    "        warpedImg[x][y] = 0\n",
    "        return False\n",
    "    if (temp[1] < 0 or temp[1] >= len(referenceImg[0])-1): #This is for warped image pixels that does not match with the reference image pixel. It just pass and make those pixels black.\n",
    "        warpedImg[x][y] = 0\n",
    "        return False\n",
    "    else:      \n",
    "        warpedImg[x][y]=bilinearInterpolation(referenceImg,temp[0],temp[1]) #If it is matched then apply the Bilinear Interpolation\n",
    "    \n",
    "def bilinearInterpolation(img,x,y):  \n",
    "\n",
    "    roundedx=round(float(x)) #First I round x and y values\n",
    "    roundedy=round(float(y))\n",
    "    floorx = (x-roundedx)  # Then substract with rounded values\n",
    "    floory = (y-roundedy)\n",
    "    \n",
    "    if(floorx>0):       #There are x and y distance conditions which our pixels belongs to true inside the 4 pixel. \n",
    "        if(floory>0):\n",
    "           \n",
    "            a0= (1 - floorx) * (1-floory) * img[roundedx][roundedy]\n",
    "            a1= floorx * (1-floory) * img[roundedx+1][roundedy]\n",
    "            a2= (1 - floorx)*floory *img[roundedx][roundedy+1] \n",
    "            a3= floorx * floory * img[roundedx+1][roundedy+1]\n",
    "        elif (floory<0):\n",
    "            \n",
    "            floory =abs(floory)\n",
    "            \n",
    "            a0= (1 - floorx)  * (1-floory)* img[roundedx][roundedy]\n",
    "            a1=  floorx * (1-floory)*img[roundedx+1][roundedy]\n",
    "            a2=  (1 - floorx)* floory  *img[roundedx][roundedy-1]\n",
    "            a3= floorx * floory * img[roundedx-1][roundedy-1]\n",
    "    \n",
    "    elif(floorx<0):\n",
    "        \n",
    "        floorx = abs(floorx)\n",
    "        \n",
    "        if(floory>0):\n",
    "           \n",
    "            a0=  (1 - floorx) * img[roundedx][roundedy] * (1-floory)\n",
    "            a1=   floorx* (1-floory) * img[roundedx-1][roundedy]\n",
    "            a2= (1 - floorx)*floory *  img[roundedx][roundedy+1] \n",
    "            a3= floorx * floory * img[roundedx-1][roundedy+1]\n",
    "        elif (floory<0):\n",
    "           \n",
    "            floory =abs(floory)\n",
    "            a0=(1 - floorx)  * (1-floory) * img[roundedx][roundedy]\n",
    "            a1=floorx* (1-floory)* img[roundedx-1][roundedy]\n",
    "            a2=(1 - floorx)*floory *img[roundedx][roundedy-1] \n",
    "            a3=floorx * floory * img[roundedx-1][roundedy-1]\n",
    "    \n",
    "    elif(floorx==0 or floory==0): #If it is in the middle\n",
    "       \n",
    "        a0= 0,25 *img[roundedx][roundedy] \n",
    "        a1= 0,25 *img[roundedx+1][roundedy]\n",
    "        a2= 0,25 *img[roundedx][roundedy+1]\n",
    "        a3= 0,25 *img[roundedx+1][roundedy+1]\n",
    "\n",
    "    intensity = (a0 + a1 + a2 + a3)             \n",
    "    return floor(intensity)\n",
    " \n",
    "def nearestInterpolation(img,x,y):\n",
    "\n",
    "    roundedx=round(float(x))\n",
    "    roundedy=round(float(y))\n",
    "         \n",
    "    return img[roundedx][roundedy]"
   ]
  },
  {
   "cell_type": "code",
   "execution_count": null,
   "metadata": {
    "scrolled": false
   },
   "outputs": [],
   "source": [
    "img1 = cv2.imread(\"img1.png\",0)    #Read image\n",
    "h1,w1 = img1.shape\n",
    "affine=initializeAffine(30,50,0.5)  #Initialize the affine matrix.\n",
    "\n",
    "print (\"This is affine matrix:\", affine)\n",
    "\n",
    "imgWarped=findWarpedImageSize(affine,h1,w1)   #Find size for warped image and create black image\n",
    "homogropyh = findHomogrophy(affine,len(imgWarped),len(imgWarped[0]),w1,h1) #Find homogropghy\n",
    "\n",
    "print (\"homogropyh\",homogropyh)\n",
    "h_inv = inv(homogropyh)  #Find inverse of homogrophy\n",
    "\n",
    "print (\"homogropyh INV\",h_inv)  \n",
    "\n",
    "visitPixels(img1,imgWarped) #Call the main function so that it call anothers functions to complete the task\n",
    "\n",
    "cv2.imwrite(\"img_warped.png\",imgWarped) #Save the warped image"
   ]
  },
  {
   "cell_type": "markdown",
   "metadata": {},
   "source": [
    "#  COMMENT 1\n",
    "\n",
    "1)--- We multiply two matrices with the homogrophy matrix to set relationship between the images with their widht-heiht.\n",
    "2)--- We can just use the homogrophy matrix but this time warped image DOES NOT fit the image we create with the corners of the reference image. Also inverse matrix changes when we multiply or we dont.\n",
    "I tried with 3 differents way and saved the images;\n",
    "\n",
    "# Observation\n",
    "IN the file there 3 images with their names below conditions\n",
    "1----> I just used homogrophy matrix and runned the code\n",
    "2----> I used first matrix with homogrophy matrix and runned the code \n",
    "3----> I used homogrophy matrix with third matrix and runned the code\n",
    " In both of them our warped image did not fit. Images that I tried, they are like cropped or slides from the center. It was like we used the translation and move the pixels to right / left / up / and down.\n",
    " We could not get the image entirely.\n",
    " So, to create a relationship between them we multiply those matrices with each other with homogropyh from its left and right side. We use both of them image warped just fit the image.\n",
    " \n",
    " And I noticed that 2. and 3. conditions they are related like : firstMatrix X Homogrophy and Homogrophy X Third Matrix\n",
    " they are the continuing of their selves. (Birbirinin devamları)\n",
    " If we merge two pictures they belong one picture but ofcourse they are not fit, it is away from center and not normal."
   ]
  },
  {
   "cell_type": "markdown",
   "metadata": {},
   "source": [
    "# COMMENT 2\n",
    "1) We find the corresponding points that warped image pixels to reference image pixels via inverse of the homogropyh matrix. Points may come fractional. We can go the homogrophy matrix. This time we lose some pixels from reference to warped image because of scale. For example, 4 pixels corrensponds 1 pixels but sometimes it does not correspond 4 pixels at all because tilt and rotation. (We can take the average intensity of the pixels) Let's not forget about that our Scale (λ) was 0.5. What if our scale was > 1. Then we can't go to reference image to warped image. We dont have enough pixels to do that. How we can fit small images pixels to big image pixels ? It will be 1 pixels corresponds more pixels. To get a certain result and not to face with the problem, we go back with the inverse homogrophy and find corresponding intensities."
   ]
  },
  {
   "cell_type": "markdown",
   "metadata": {},
   "source": [
    "# COMMENT 3\n",
    "In the file, there is an image named \"img_warped_nearestInterpolation.png \"\n",
    "---- I defined a function \" nearestInterpolation \" and runs the code with it. It gave me same image but bad result. It is like our pixels shaked. Because in the bilinear interpolation we use relation that x,y distances to pixels and use 4 pixels intensity. In this nearest interpolation we just round the nearest pixel and just use 1 pixel intensity. If we think that it is not logical at all to wait good result comparing bilinear interpolation.\n",
    "\n"
   ]
  },
  {
   "cell_type": "code",
   "execution_count": null,
   "metadata": {},
   "outputs": [],
   "source": []
  },
  {
   "cell_type": "code",
   "execution_count": null,
   "metadata": {},
   "outputs": [],
   "source": []
  },
  {
   "cell_type": "code",
   "execution_count": null,
   "metadata": {},
   "outputs": [],
   "source": []
  }
 ],
 "metadata": {
  "kernelspec": {
   "display_name": "Python 3",
   "language": "python",
   "name": "python3"
  },
  "language_info": {
   "codemirror_mode": {
    "name": "ipython",
    "version": 3
   },
   "file_extension": ".py",
   "mimetype": "text/x-python",
   "name": "python",
   "nbconvert_exporter": "python",
   "pygments_lexer": "ipython3",
   "version": "3.5.2"
  }
 },
 "nbformat": 4,
 "nbformat_minor": 2
}
