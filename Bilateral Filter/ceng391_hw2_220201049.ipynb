{
 "cells": [
  {
   "cell_type": "code",
   "execution_count": null,
   "metadata": {},
   "outputs": [],
   "source": [
    "import cv2 #Libraries.\n",
    "import numpy as np\n",
    "import matplotlib.pyplot as plt\n",
    "import math\n",
    "import time\n",
    "\n",
    "sigma_value_i=8  #Some values for initialization, we can change their value to apply different filter.\n",
    "sigma_value_s=20\n",
    "squareSize=7\n",
    "gaus_list=[]    #Simply the Gaussian values list.There can be a 255-i , 255-i+1 ,255-i+2.. 255-i+255 possibilities\n",
    "                #for gaussain values. I calculated all the possibilites for gaussian values so no need to do extra process for every pixel.\n",
    "\n",
    "distance_list=[]  #Same as gauslist. There is a 7x7 square and distances between center coordinates and other coordinates always be the same.\n",
    "                  #so again no need to calculate for everytime.\n",
    "\n",
    "#Simply to optimize the code I use RAM instead of CPU."
   ]
  },
  {
   "cell_type": "code",
   "execution_count": null,
   "metadata": {},
   "outputs": [],
   "source": [
    "def find_gaussian_values():    #Find gaussian values and add them to a list.\n",
    "    global sigma_value_i\n",
    "    i=1\n",
    "    while i<257:\n",
    "        gaus_list.append(0)\n",
    "        i+=1\n",
    "    counter=0\n",
    "    i=0\n",
    "    while(i<255):\n",
    "        x= 255-counter\n",
    "        gaus_list[x-1]=((1/(2*math.pi*(sigma_value_i**2)))*math.exp(-(x ** 2)/(2*sigma_value_i**2)))\n",
    "        i+=1\n",
    "        counter+=1\n",
    "\n",
    "def find_distance_values():    #Find center pixel distances from other pixels in 7x7 square and add them to a list.\n",
    "    global sigma_value_s,squareSize\n",
    "    halflenOfSquare=squareSize//2\n",
    "    x=0\n",
    "    while(x<7):\n",
    "        y=0\n",
    "        distance_list.append([])\n",
    "        while(y<7):\n",
    "            distance_list[x].append((1/(2*math.pi*(sigma_value_s ** 2)))*math.exp(- (((halflenOfSquare-x)**2 +(halflenOfSquare-y)**2))/(2*sigma_value_s**2)) )\n",
    "            y+=1\n",
    "        x+=1\n",
    "        \n",
    "find_gaussian_values()       #CALL the functions because we will need a list.\n",
    "find_distance_values()\n"
   ]
  },
  {
   "cell_type": "code",
   "execution_count": null,
   "metadata": {},
   "outputs": [],
   "source": [
    "def bilateral_filter(originalImg): #Take original image as a parameter.\n",
    "    bileteralImage = np.zeros(originalImg.shape)   #Create a image in original image size.\n",
    "    halfOfSizeSquare = squareSize//2   #We get half of the of square for visiting the pixels.\n",
    "    i = 0   #There will be a 4 loop, first rows in image then their columns and visiting neighbours for a 7x7 square.\n",
    "    for row in img:\n",
    "        j = 0\n",
    "        for pixel in row:\n",
    "            image_filtered_pixel = 0 #TO calculate new pixel value we set 0 here, so in the other loop will be clear and value will be 0.\n",
    "            Wp = 0  #Same as above.\n",
    "            for rowOfSquare in range(0,squareSize):   \n",
    "                for ColumnOfSquare in range(0,squareSize):   \n",
    "                    visitForX = i - (halfOfSizeSquare - rowOfSquare)\n",
    "                    visitForY = j - (halfOfSizeSquare - ColumnOfSquare)\n",
    "                    if visitForX >= len(originalImg): #For edge pixels.If it is in edge or corner pixel simply get current pixel idensity of it.\n",
    "                        visitForX = i\n",
    "                    if visitForY >= len(originalImg[0]): #For edge pixels.If it is in edge or corner pixel simply get current pixel idensity of it.\n",
    "                        visitForY = j    \n",
    "                    w = distance_list[rowOfSquare][ColumnOfSquare] * gaus_list[originalImg[visitForX][visitForY] - originalImg[i][j]]  #Wikipedia formula and we use the lists in here.\n",
    "                    image_filtered_pixel += originalImg[visitForX][visitForY] * w  #We visit neigbours and calculate new pixel \n",
    "                    Wp += w    \n",
    "            bileteralImage[i][j] =image_filtered_pixel // Wp   # Since it will be an integer I used //.\n",
    "            j+=1\n",
    "       #To open loading screen enable to code below please.\n",
    "       # print (\"Loading bileteral filter %:\",(i/len(originalImg)*100))  #Print to the screen loading percentage. If we get rid of this print command our process will be faster.\n",
    "        i+=1\n",
    "    return bileteralImage  #return the new image."
   ]
  },
  {
   "cell_type": "code",
   "execution_count": null,
   "metadata": {
    "scrolled": true
   },
   "outputs": [],
   "source": [
    "img = cv2.imread(\"in_img.jpg\",0)\n",
    "start = time.time()\n",
    "myBileteralImg = bilateral_filter(img)\n",
    "cv2.imwrite(\"filtered_image_own.png\", myBileteralImg)\n",
    "print(\"Modification takes:\",(time.time()-start)*1000.0,\"ms\")\n",
    "\n",
    "image_OpenCV = cv2.bilateralFilter(img, 7, 8, 20)\n",
    "cv2.imwrite(\"filtered_image_OpenCV.png\", img)"
   ]
  },
  {
   "cell_type": "markdown",
   "metadata": {},
   "source": [
    "#### I started with sigma_value_i,sigma_value_s= 2,2: applied the filter. Seems like our image changed very little, almost nothing.\n",
    "\n",
    "#### I tried sigma_value_i,sigma_value_s= 20,2 Now the image lost deatils in the roof. I think the noises are gone and  image brightness  is increased. \n",
    "\n",
    "#### I tried sigma_value_i,sigma_value_s= 200,2 to see what will happen to an image. Image changed like there is man whose eyes are short-sighted (miyop) and can't see the far away. Blur level of image is increased very much.\n",
    "\n",
    "#### I have learned how sigma_value_i is worked.\n",
    "\n",
    "#### I tried sigma_value_i,sigma_value_s= 20,10 and sigma_value_i,sigma_value_s= 20,2.\n",
    "\n",
    "#### I noticed that sgma_value_s is increase in the image at the roof darker side will be darker.. And black lines in the image appears.I think this is for the edges and lines but for the larger features. I mean not to lose edges but become clear\n",
    "#### If we mix both sigmas, to blur enoughly picked sigma_value_i=8 and for the lines and sigma_value_s= 20 for the lines and edges, not to lose details. I just tried many options with playing both sigmas\n",
    "\n",
    "#### FINAL: Because sigma_value_i values changes, our image changes a lot.. So I think \"8\" value is enough. It blurs the image. For sigma_value_s= 20 is good for it and fixed the edges. I noticed that sigma_value_s does not make the image huge different. May be because of 7x7 size. Because every distance from pixels is fixed and not many chocies because of this is not to lose details in the edges and roof-top side line. In the other hand in \"gaus_list\" we have more value to implement and many options \n",
    "#### Using the bileteral rule of \"Bilateral filter was introduced to smooth images while preserving edges.\" simply I try it to fix sigmas to this rule\n"
   ]
  }
 ],
 "metadata": {
  "kernelspec": {
   "display_name": "Python 3",
   "language": "python",
   "name": "python3"
  },
  "language_info": {
   "codemirror_mode": {
    "name": "ipython",
    "version": 3
   },
   "file_extension": ".py",
   "mimetype": "text/x-python",
   "name": "python",
   "nbconvert_exporter": "python",
   "pygments_lexer": "ipython3",
   "version": "3.5.2"
  }
 },
 "nbformat": 4,
 "nbformat_minor": 2
}
